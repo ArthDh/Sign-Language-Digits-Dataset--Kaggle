{
 "cells": [
  {
   "cell_type": "code",
   "execution_count": 1,
   "metadata": {},
   "outputs": [
    {
     "name": "stderr",
     "output_type": "stream",
     "text": [
      "/Library/Frameworks/Python.framework/Versions/3.6/lib/python3.6/site-packages/h5py/__init__.py:36: FutureWarning: Conversion of the second argument of issubdtype from `float` to `np.floating` is deprecated. In future, it will be treated as `np.float64 == np.dtype(float).type`.\n",
      "  from ._conv import register_converters as _register_converters\n",
      "Using TensorFlow backend.\n"
     ]
    }
   ],
   "source": [
    "import cv2\n",
    "import numpy as np\n",
    "import keras\n",
    "import time\n",
    "import sys\n",
    "from keras.models import load_model"
   ]
  },
  {
   "cell_type": "code",
   "execution_count": 2,
   "metadata": {},
   "outputs": [
    {
     "data": {
      "text/plain": [
       "True"
      ]
     },
     "execution_count": 2,
     "metadata": {},
     "output_type": "execute_result"
    }
   ],
   "source": [
    "cap = cv2.VideoCapture(0)\n",
    "cap.set(3,100)\n",
    "cap.set(4,100)"
   ]
  },
  {
   "cell_type": "code",
   "execution_count": 8,
   "metadata": {},
   "outputs": [],
   "source": [
    "model = load_model('SignLanguage_90_S.h5')\n",
    "pred = 0\n",
    "pred_new = 0\n",
    "cap = cv2.VideoCapture(0)\n",
    "\n",
    "# Need to keep hand at a close distance\n",
    "# TODO :Make it general purpose\n",
    "while True:\n",
    "    ret, image = cap.read()\n",
    "    image_resized = cv2.resize(image, (100,100))\n",
    "    image_test = image_resized.reshape((1,) + image_resized.shape)\n",
    "    pred_new = model.predict(image_test)\n",
    "    key = cv2.waitKey(20)\n",
    "    if np.argmax(pred_new) != pred:\n",
    "        sys.stdout.write(\"Prediction: {} \\r\".format(np.argmax(pred_new)) )\n",
    "        sys.stdout.flush()\n",
    "    pred = np.argmax(pred_new)\n",
    "        \n",
    "    cv2.imshow('test', image_resized)\n",
    "    \n",
    "    if key!= -1:\n",
    "        break"
   ]
  },
  {
   "cell_type": "code",
   "execution_count": 7,
   "metadata": {
    "collapsed": true
   },
   "outputs": [],
   "source": [
    "cap.release()\n",
    "cv2.destroyAllWindows()"
   ]
  },
  {
   "cell_type": "code",
   "execution_count": null,
   "metadata": {
    "collapsed": true
   },
   "outputs": [],
   "source": []
  }
 ],
 "metadata": {
  "kernelspec": {
   "display_name": "Python 3",
   "language": "python",
   "name": "python3"
  },
  "language_info": {
   "codemirror_mode": {
    "name": "ipython",
    "version": 3
   },
   "file_extension": ".py",
   "mimetype": "text/x-python",
   "name": "python",
   "nbconvert_exporter": "python",
   "pygments_lexer": "ipython3",
   "version": "3.6.1"
  }
 },
 "nbformat": 4,
 "nbformat_minor": 2
}
